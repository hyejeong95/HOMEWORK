{
 "cells": [
  {
   "cell_type": "markdown",
   "metadata": {},
   "source": [
    "# 마크다운에 대해서\n",
    "\n",
    "## 마크다운의 장점\n",
    "-문법이 쉽다.<br>\n",
    "-관리가 쉽다.<br>\n",
    "-지원 가능한 플랫폼과 프로그램이 다양하다. <br>\n",
    "## 마크다운의 단점\n",
    "-표준이 없어 사용자마다 문법이 상이할 수 있다. <br>\n",
    "-모든 HTML 마크업을 대신하지 못한다. <br>"
   ]
  },
  {
   "cell_type": "markdown",
   "metadata": {},
   "source": [
    "## 제목(header)\n",
    "# 제목 1\n",
    "## 제목 2\n",
    "### 제목 3\n",
    "#### 제목 4\n",
    "##### 제목 5\n",
    "###### 제목 6"
   ]
  },
  {
   "cell_type": "markdown",
   "metadata": {},
   "source": [
    "\n",
    "### 링크변환\n",
    "[NAVER](https://naver.com \"네이버로 이동합니다\")<br>\n",
    "[GOOGLE](https://www.google.co.kr/webhp?hl=ko&sa=X&ved=0ahUKEwj-lc6NzunkAhUVL6YKHTJICf8QPAgH)\n",
    "\n",
    "\n"
   ]
  },
  {
   "cell_type": "markdown",
   "metadata": {},
   "source": [
    "### 이미지\n",
    "![logo](https://www.gstatic.com/webp/gallery/5.jpg"
   ]
  },
  {
   "cell_type": "markdown",
   "metadata": {},
   "source": [
    "### 표"
   ]
  },
  {
   "cell_type": "markdown",
   "metadata": {},
   "source": [
    "|이름|나이|성별|\n",
    "|---|:---:|---:|\n",
    "|`임혜정`|25|여자|\n",
    "|`이승현`|26|여자|\n",
    "|`박지은`|25|여자|"
   ]
  },
  {
   "cell_type": "markdown",
   "metadata": {},
   "source": [
    "\n",
    "### 인용문(blockQuote)\n",
    "> 남의 말이나 글에서 직접 또는 간접으로 따온 문장.<br>\n",
    ">*(네이버 국어 사전)*\n",
    "\n",
    ">인용문을 작성하세요!\n",
    ">>중첩된 인용문을 만들 수 있습니다.\n",
    ">>>중중첩된 인용문 1\n",
    ">>>중중첩된 인용문 2\n"
   ]
  },
  {
   "cell_type": "markdown",
   "metadata": {},
   "source": [
    "### 수평선"
   ]
  },
  {
   "cell_type": "markdown",
   "metadata": {},
   "source": [
    "---\n",
    "(hyphens)\n",
    "\n",
    "***\n",
    "(Asterisks)\n",
    "\n",
    "___\n",
    "(underscores)"
   ]
  },
  {
   "cell_type": "markdown",
   "metadata": {},
   "source": [
    "## Latex equation<br>\n",
    "$ \\sum_{i=1}^n x_i $"
   ]
  }
 ],
 "metadata": {
  "kernelspec": {
   "display_name": "Python 2",
   "language": "python",
   "name": "python2"
  },
  "language_info": {
   "codemirror_mode": {
    "name": "ipython",
    "version": 2
   },
   "file_extension": ".py",
   "mimetype": "text/x-python",
   "name": "python",
   "nbconvert_exporter": "python",
   "pygments_lexer": "ipython2",
   "version": "2.7.16"
  }
 },
 "nbformat": 4,
 "nbformat_minor": 2
}
